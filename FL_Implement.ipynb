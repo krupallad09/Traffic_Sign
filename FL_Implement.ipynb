{
  "nbformat": 4,
  "nbformat_minor": 0,
  "metadata": {
    "colab": {
      "provenance": [],
      "gpuType": "T4"
    },
    "kernelspec": {
      "name": "python3",
      "display_name": "Python 3"
    },
    "language_info": {
      "name": "python"
    },
    "accelerator": "GPU"
  },
  "cells": [
    {
      "cell_type": "code",
      "execution_count": null,
      "metadata": {
        "id": "o50TOMyXgJqS"
      },
      "outputs": [],
      "source": [
        "import numpy as np\n",
        "import random\n",
        "import cv2\n",
        "import os\n",
        "from imutils import paths\n",
        "from sklearn.model_selection import train_test_split\n",
        "from sklearn.preprocessing import LabelBinarizer\n",
        "from sklearn.model_selection import train_test_split\n",
        "from sklearn.utils import shuffle\n",
        "from sklearn.metrics import accuracy_score\n",
        "\n",
        "import tensorflow as tf\n",
        "from tensorflow.keras.models import Sequential\n",
        "from tensorflow.keras.layers import Conv2D\n",
        "from tensorflow.keras.layers import MaxPooling2D\n",
        "from tensorflow.keras.layers import Activation\n",
        "from tensorflow.keras.layers import Flatten\n",
        "from tensorflow.keras.layers import Dense\n",
        "from tensorflow.keras.optimizers import SGD\n",
        "from tensorflow.keras import backend as K"
      ]
    },
    {
      "cell_type": "code",
      "source": [
        "def create_clients(image_list, label_list, num_clients=10, initial='clients'):\n",
        "    ''' return: a dictionary with keys clients' names and value as\n",
        "                data shards - tuple of images and label lists.\n",
        "        args:\n",
        "            image_list: a list of numpy arrays of training images\n",
        "            label_list:a list of binarized labels for each image\n",
        "            num_client: number of fedrated members (clients)\n",
        "            initials: the clients'name prefix, e.g, clients_1\n",
        "\n",
        "    '''\n",
        "\n",
        "    #create a list of client names\n",
        "    client_names = ['{}_{}'.format(initial, i+1) for i in range(num_clients)]\n",
        "\n",
        "    #randomize the data\n",
        "    data = list(zip(image_list, label_list))\n",
        "    random.shuffle(data)\n",
        "\n",
        "    #shard data and place at each client\n",
        "    size = len(data)//num_clients\n",
        "    shards = [data[i:i + size] for i in range(0, size*num_clients, size)]\n",
        "\n",
        "    #number of clients must equal number of shards\n",
        "    assert(len(shards) == len(client_names))\n",
        "\n",
        "    return {client_names[i] : shards[i] for i in range(len(client_names))}\n",
        "\n",
        "\n",
        "\n",
        "def batch_data(data_shard, bs=32):\n",
        "    '''Takes in a clients data shard and create a tfds object off it\n",
        "    args:\n",
        "        shard: a data, label constituting a client's data shard\n",
        "        bs:batch size\n",
        "    return:\n",
        "        tfds object'''\n",
        "    #seperate shard into data and labels lists\n",
        "    data, label = zip(*data_shard)\n",
        "    dataset = tf.data.Dataset.from_tensor_slices((list(data), list(label)))\n",
        "    return dataset.shuffle(len(label)).batch(bs)\n",
        "\n",
        "\n",
        "class SimpleMLP:\n",
        "    @staticmethod\n",
        "    def build(shape, classes):\n",
        "        model = Sequential()\n",
        "        model.add(Dense(200, input_shape=(shape,)))\n",
        "        model.add(Activation(\"relu\"))\n",
        "        model.add(Dense(200))\n",
        "        model.add(Activation(\"relu\"))\n",
        "        model.add(Dense(classes))\n",
        "        model.add(Activation(\"softmax\"))\n",
        "        return model\n",
        "\n",
        "\n",
        "def weight_scalling_factor(clients_trn_data, client_name):\n",
        "    client_names = list(clients_trn_data.keys())\n",
        "    #get the bs\n",
        "    bs = list(clients_trn_data[client_name])[0][0].shape[0]\n",
        "    #first calculate the total training data points across clinets\n",
        "    global_count = sum([tf.data.experimental.cardinality(clients_trn_data[client_name]).numpy() for client_name in client_names])*bs\n",
        "    # get the total number of data points held by a client\n",
        "    local_count = tf.data.experimental.cardinality(clients_trn_data[client_name]).numpy()*bs\n",
        "    return local_count/global_count\n",
        "\n",
        "\n",
        "def scale_model_weights(weight, scalar):\n",
        "    '''function for scaling a models weights'''\n",
        "    weight_final = []\n",
        "    steps = len(weight)\n",
        "    for i in range(steps):\n",
        "        weight_final.append(scalar * weight[i])\n",
        "    return weight_final\n",
        "\n",
        "\n",
        "\n",
        "def sum_scaled_weights(scaled_weight_list):\n",
        "    '''Return the sum of the listed scaled weights. The is equivalent to scaled avg of the weights'''\n",
        "    avg_grad = list()\n",
        "    #get the average grad accross all client gradients\n",
        "    for grad_list_tuple in zip(*scaled_weight_list):\n",
        "        layer_mean = tf.math.reduce_sum(grad_list_tuple, axis=0)\n",
        "        avg_grad.append(layer_mean)\n",
        "\n",
        "    return avg_grad\n",
        "\n",
        "\n",
        "def test_model(X_test, Y_test,  model, comm_round):\n",
        "    cce = tf.keras.losses.CategoricalCrossentropy(from_logits=True)\n",
        "    #logits = model.predict(X_test, batch_size=100)\n",
        "    logits = model.predict(X_test)\n",
        "    loss = cce(Y_test, logits)\n",
        "    acc = accuracy_score(tf.argmax(logits, axis=1), tf.argmax(Y_test, axis=1))\n",
        "    print('comm_round: {} | global_acc: {:.3%} | global_loss: {}'.format(comm_round, acc, loss))\n",
        "    return acc, loss"
      ],
      "metadata": {
        "id": "O1MY3cCYjeS2"
      },
      "execution_count": null,
      "outputs": []
    },
    {
      "cell_type": "code",
      "source": [
        "# from google.colab import drive\n",
        "# drive.mount('/content/gdrive')\n",
        "!git clone \"https://github.com/krupallad09/Traffic_Sign_Recognition.git\""
      ],
      "metadata": {
        "colab": {
          "base_uri": "https://localhost:8080/"
        },
        "id": "Mng_DbX9jklr",
        "outputId": "6d660ae6-5718-4401-ec95-fdd7cf6b763e"
      },
      "execution_count": null,
      "outputs": [
        {
          "output_type": "stream",
          "name": "stdout",
          "text": [
            "Cloning into 'Traffic_Sign_Recognition'...\n",
            "remote: Enumerating objects: 103901, done.\u001b[K\n",
            "remote: Counting objects: 100% (12647/12647), done.\u001b[K\n",
            "remote: Compressing objects: 100% (12591/12591), done.\u001b[K\n",
            "remote: Total 103901 (delta 60), reused 12642 (delta 55), pack-reused 91254\u001b[K\n",
            "Receiving objects: 100% (103901/103901), 641.15 MiB | 22.44 MiB/s, done.\n",
            "Resolving deltas: 100% (187/187), done.\n",
            "Updating files: 100% (51885/51885), done.\n"
          ]
        }
      ]
    },
    {
      "cell_type": "code",
      "source": [
        "! wget https://raw.githubusercontent.com/georgesung/traffic_sign_classification_german/master/signnames.csv -P /content/Traffic_Sign_Recognition"
      ],
      "metadata": {
        "colab": {
          "base_uri": "https://localhost:8080/"
        },
        "id": "jRp0VkBIJlGY",
        "outputId": "e9759600-fdf7-40c6-c6fd-9e493f99942c"
      },
      "execution_count": null,
      "outputs": [
        {
          "output_type": "stream",
          "name": "stdout",
          "text": [
            "--2024-04-22 08:46:28--  https://raw.githubusercontent.com/georgesung/traffic_sign_classification_german/master/signnames.csv\n",
            "Resolving raw.githubusercontent.com (raw.githubusercontent.com)... 185.199.108.133, 185.199.109.133, 185.199.110.133, ...\n",
            "Connecting to raw.githubusercontent.com (raw.githubusercontent.com)|185.199.108.133|:443... connected.\n",
            "HTTP request sent, awaiting response... 200 OK\n",
            "Length: 999 [text/plain]\n",
            "Saving to: ‘/content/Traffic_Sign_Recognition/signnames.csv’\n",
            "\n",
            "\rsignnames.csv         0%[                    ]       0  --.-KB/s               \rsignnames.csv       100%[===================>]     999  --.-KB/s    in 0s      \n",
            "\n",
            "2024-04-22 08:46:28 (62.5 MB/s) - ‘/content/Traffic_Sign_Recognition/signnames.csv’ saved [999/999]\n",
            "\n"
          ]
        }
      ]
    },
    {
      "cell_type": "code",
      "source": [
        "!pwd"
      ],
      "metadata": {
        "colab": {
          "base_uri": "https://localhost:8080/"
        },
        "id": "DAAM7CdikggM",
        "outputId": "d6981099-b8a5-49ee-e8f6-fc4b4cf27c21"
      },
      "execution_count": null,
      "outputs": [
        {
          "output_type": "stream",
          "name": "stdout",
          "text": [
            "/content\n"
          ]
        }
      ]
    },
    {
      "cell_type": "code",
      "source": [
        "import pandas as pd\n",
        "classes = pd.read_csv('/content/Traffic_Sign_Recognition/signnames.csv')\n",
        "class_names = {}\n",
        "for i, row in classes.iterrows():\n",
        "    class_names[str(row[0])] = row[1]\n",
        "print(class_names)\n",
        "print(type(class_names))\n",
        "print(class_names.get(0))"
      ],
      "metadata": {
        "colab": {
          "base_uri": "https://localhost:8080/"
        },
        "id": "MeZR9sLMJd5V",
        "outputId": "d05313e9-0e53-4769-e03f-c8d4258e367c"
      },
      "execution_count": null,
      "outputs": [
        {
          "output_type": "stream",
          "name": "stdout",
          "text": [
            "{'0': 'Speed limit (20km/h)', '1': 'Speed limit (30km/h)', '2': 'Speed limit (50km/h)', '3': 'Speed limit (60km/h)', '4': 'Speed limit (70km/h)', '5': 'Speed limit (80km/h)', '6': 'End of speed limit (80km/h)', '7': 'Speed limit (100km/h)', '8': 'Speed limit (120km/h)', '9': 'No passing', '10': 'No passing for vechiles over 3.5 metric tons', '11': 'Right-of-way at the next intersection', '12': 'Priority road', '13': 'Yield', '14': 'Stop', '15': 'No vechiles', '16': 'Vechiles over 3.5 metric tons prohibited', '17': 'No entry', '18': 'General caution', '19': 'Dangerous curve to the left', '20': 'Dangerous curve to the right', '21': 'Double curve', '22': 'Bumpy road', '23': 'Slippery road', '24': 'Road narrows on the right', '25': 'Road work', '26': 'Traffic signals', '27': 'Pedestrians', '28': 'Children crossing', '29': 'Bicycles crossing', '30': 'Beware of ice/snow', '31': 'Wild animals crossing', '32': 'End of all speed and passing limits', '33': 'Turn right ahead', '34': 'Turn left ahead', '35': 'Ahead only', '36': 'Go straight or right', '37': 'Go straight or left', '38': 'Keep right', '39': 'Keep left', '40': 'Roundabout mandatory', '41': 'End of no passing', '42': 'End of no passing by vechiles over 3.5 metric tons'}\n",
            "<class 'dict'>\n",
            "None\n"
          ]
        }
      ]
    },
    {
      "cell_type": "code",
      "source": [
        "def load(paths, verbose=-1, desired_width = 50, desired_height = 50):\n",
        "    '''expects images for each class in seperate dir,\n",
        "    e.g all digits in 0 class in the directory named 0 '''\n",
        "    print(paths)\n",
        "    data = list()\n",
        "    labels = list()\n",
        "    # loop over the input images\n",
        "    for (i, imgpath) in enumerate(paths):\n",
        "        # load the image and extract the class labels\n",
        "        im_gray = cv2.imread(imgpath, cv2.IMREAD_GRAYSCALE)\n",
        "        resized_image = cv2.resize(im_gray, (desired_width, desired_height))\n",
        "\n",
        "        image = np.array(resized_image).flatten()\n",
        "        label = imgpath.split(os.path.sep)[-2]\n",
        "        x = str(int(label))\n",
        "        class_name = class_names.get(x)\n",
        "        # scale the image to [0, 1] and add to list\n",
        "        data.append(image/255)\n",
        "        labels.append(class_name)\n",
        "        # show an update every `verbose` images\n",
        "        if verbose > 0 and i > 0 and (i + 1) % verbose == 0:\n",
        "            print(\"[INFO] processed {}/{}\".format(i + 1, len(paths)))\n",
        "    # return a tuple of the data and labels\n",
        "    return data, labels"
      ],
      "metadata": {
        "id": "XrsPrA-oJ37L"
      },
      "execution_count": null,
      "outputs": []
    },
    {
      "cell_type": "code",
      "source": [
        "directory_path = '/content/Traffic_Sign_Recognition/GTSRB/Final_Training/Images'\n",
        "ppm_files = []\n",
        "for root, dirs, files in os.walk(directory_path):\n",
        "    for file in files:\n",
        "        if file.endswith('.ppm'):\n",
        "            ppm_file_path = os.path.join(root, file)\n",
        "            ppm_files.append(ppm_file_path)\n",
        "ppm_files.sort()\n",
        "print(ppm_files[0])"
      ],
      "metadata": {
        "colab": {
          "base_uri": "https://localhost:8080/"
        },
        "id": "uEPjGbRpLZQt",
        "outputId": "80fa3ed9-369d-49fc-b7b6-bfc3f223aaf2"
      },
      "execution_count": null,
      "outputs": [
        {
          "output_type": "stream",
          "name": "stdout",
          "text": [
            "/content/Traffic_Sign_Recognition/GTSRB/Final_Training/Images/00000/00000_00000.ppm\n"
          ]
        }
      ]
    },
    {
      "cell_type": "code",
      "source": [
        "image_list, label_list = load(ppm_files, verbose=10000)\n",
        "lb = LabelBinarizer()\n",
        "label_list = lb.fit_transform(label_list)\n",
        "\n",
        "X_train, X_test, y_train, y_test = train_test_split(image_list,\n",
        "                                                    label_list,\n",
        "                                                    test_size=0.1,\n",
        "                                                    random_state=42)"
      ],
      "metadata": {
        "colab": {
          "base_uri": "https://localhost:8080/"
        },
        "id": "sP13w5pXMbwX",
        "outputId": "a04b2a91-d7bb-4632-fd8f-1afa5eccc442"
      },
      "execution_count": null,
      "outputs": [
        {
          "output_type": "stream",
          "name": "stderr",
          "text": [
            "IOPub data rate exceeded.\n",
            "The notebook server will temporarily stop sending output\n",
            "to the client in order to avoid crashing it.\n",
            "To change this limit, set the config variable\n",
            "`--NotebookApp.iopub_data_rate_limit`.\n",
            "\n",
            "Current values:\n",
            "NotebookApp.iopub_data_rate_limit=1000000.0 (bytes/sec)\n",
            "NotebookApp.rate_limit_window=3.0 (secs)\n",
            "\n"
          ]
        },
        {
          "output_type": "stream",
          "name": "stdout",
          "text": [
            "[INFO] processed 10000/39209\n",
            "[INFO] processed 20000/39209\n",
            "[INFO] processed 30000/39209\n"
          ]
        }
      ]
    },
    {
      "cell_type": "code",
      "source": [
        "# prompt: print max size of X_trian all items\n",
        "max_size = print(max([len(i) for i in X_train]))\n",
        "min_size = print(min([len(i) for i in X_train]))"
      ],
      "metadata": {
        "colab": {
          "base_uri": "https://localhost:8080/"
        },
        "id": "08YmInQ-Pged",
        "outputId": "b9a39f7e-44e1-4599-a9f3-42b392c31547"
      },
      "execution_count": null,
      "outputs": [
        {
          "output_type": "stream",
          "name": "stdout",
          "text": [
            "2500\n",
            "2500\n"
          ]
        }
      ]
    },
    {
      "cell_type": "code",
      "source": [
        "def create_clients(image_list, label_list, num_clients=10, initial='clients'):\n",
        "    ''' return: a dictionary with keys clients' names and value as\n",
        "                data shards - tuple of images and label lists.\n",
        "        args:\n",
        "            image_list: a list of numpy arrays of training images\n",
        "            label_list:a list of binarized labels for each image\n",
        "            num_client: number of fedrated members (clients)\n",
        "            initials: the clients'name prefix, e.g, clients_1\n",
        "\n",
        "    '''\n",
        "\n",
        "    #create a list of client names\n",
        "    client_names = ['{}_{}'.format(initial, i+1) for i in range(num_clients)]\n",
        "\n",
        "    #randomize the data\n",
        "    data = list(zip(image_list, label_list))\n",
        "    random.shuffle(data)\n",
        "\n",
        "    #shard data and place at each client\n",
        "    size = len(data)//num_clients\n",
        "    shards = [data[i:i + size] for i in range(0, size*num_clients, size)]\n",
        "\n",
        "    #number of clients must equal number of shards\n",
        "    assert(len(shards) == len(client_names))\n",
        "\n",
        "    return {client_names[i] : shards[i] for i in range(len(client_names))}"
      ],
      "metadata": {
        "id": "qSmNkA85MyvF"
      },
      "execution_count": null,
      "outputs": []
    },
    {
      "cell_type": "code",
      "source": [
        "clients = create_clients(X_train, y_train, num_clients=10, initial='client')"
      ],
      "metadata": {
        "id": "Kmu7q57iOplX"
      },
      "execution_count": null,
      "outputs": []
    },
    {
      "cell_type": "code",
      "source": [
        "def batch_data(data_shard, bs=32):\n",
        "    '''Takes in a clients data shard and create a tfds object off it\n",
        "    args:\n",
        "        shard: a data, label constituting a client's data shard\n",
        "        bs:batch size\n",
        "    return:\n",
        "        tfds object'''\n",
        "    #seperate shard into data and labels lists\n",
        "    data, label = zip(*data_shard)\n",
        "    dataset = tf.data.Dataset.from_tensor_slices((list(data), list(label)))\n",
        "    return dataset.shuffle(len(label)).batch(bs)"
      ],
      "metadata": {
        "id": "D28pdmuVOsT0"
      },
      "execution_count": null,
      "outputs": []
    },
    {
      "cell_type": "code",
      "source": [
        "#process and batch the training data for each client\n",
        "clients_batched = dict()\n",
        "for (client_name, data) in clients.items():\n",
        "    clients_batched[client_name] = batch_data(data)\n",
        "\n",
        "#process and batch the test set\n",
        "test_batched = tf.data.Dataset.from_tensor_slices((X_test, y_test)).batch(len(y_test))"
      ],
      "metadata": {
        "id": "QelEQ0UiOu46"
      },
      "execution_count": null,
      "outputs": []
    },
    {
      "cell_type": "code",
      "source": [
        "class SimpleMLP:\n",
        "    @staticmethod\n",
        "    def build(shape, classes):\n",
        "        model = Sequential()\n",
        "        model.add(Dense(200, input_shape=(shape,)))\n",
        "        model.add(Activation(\"relu\"))\n",
        "        model.add(Dense(200))\n",
        "        model.add(Activation(\"relu\"))\n",
        "        model.add(Dense(classes))\n",
        "        model.add(Activation(\"softmax\"))\n",
        "        return model"
      ],
      "metadata": {
        "id": "1Wk6kA4yOyid"
      },
      "execution_count": null,
      "outputs": []
    },
    {
      "cell_type": "code",
      "source": [
        "\n",
        "lr = 0.01\n",
        "comms_round = 100\n",
        "loss='categorical_crossentropy'\n",
        "metrics = ['accuracy']\n",
        "optimizer = tf.keras.optimizers.legacy.SGD(lr=lr,\n",
        "                decay=lr / comms_round,\n",
        "                momentum=0.9\n",
        "               )"
      ],
      "metadata": {
        "colab": {
          "base_uri": "https://localhost:8080/"
        },
        "id": "5IGfctHjyjii",
        "outputId": "6e91aac5-bbe6-4f19-b30f-e74c1ed0f568"
      },
      "execution_count": null,
      "outputs": [
        {
          "output_type": "stream",
          "name": "stderr",
          "text": [
            "/usr/local/lib/python3.10/dist-packages/keras/src/optimizers/legacy/gradient_descent.py:114: UserWarning: The `lr` argument is deprecated, use `learning_rate` instead.\n",
            "  super().__init__(name, **kwargs)\n"
          ]
        }
      ]
    },
    {
      "cell_type": "code",
      "source": [
        "def weight_scalling_factor(clients_trn_data, client_name):\n",
        "    client_names = list(clients_trn_data.keys())\n",
        "    #get the bs\n",
        "    bs = list(clients_trn_data[client_name])[0][0].shape[0]\n",
        "    #first calculate the total training data points across clinets\n",
        "    global_count = sum([tf.data.experimental.cardinality(clients_trn_data[client_name]).numpy() for client_name in client_names])*bs\n",
        "    # get the total number of data points held by a client\n",
        "    local_count = tf.data.experimental.cardinality(clients_trn_data[client_name]).numpy()*bs\n",
        "    return local_count/global_count\n",
        "\n",
        "\n",
        "def scale_model_weights(weight, scalar):\n",
        "    '''function for scaling a models weights'''\n",
        "    weight_final = []\n",
        "    steps = len(weight)\n",
        "    for i in range(steps):\n",
        "        weight_final.append(scalar * weight[i])\n",
        "    return weight_final\n",
        "\n",
        "\n",
        "\n",
        "def sum_scaled_weights(scaled_weight_list):\n",
        "    '''Return the sum of the listed scaled weights. The is equivalent to scaled avg of the weights'''\n",
        "    avg_grad = list()\n",
        "    #get the average grad accross all client gradients\n",
        "    for grad_list_tuple in zip(*scaled_weight_list):\n",
        "        layer_mean = tf.math.reduce_sum(grad_list_tuple, axis=0)\n",
        "        avg_grad.append(layer_mean)\n",
        "\n",
        "    return avg_grad\n",
        "\n",
        "\n",
        "def test_model(X_test, Y_test,  model, comm_round):\n",
        "    cce = tf.keras.losses.CategoricalCrossentropy(from_logits=True)\n",
        "    #logits = model.predict(X_test, batch_size=100)\n",
        "    logits = model.predict(X_test)\n",
        "    loss = cce(Y_test, logits)\n",
        "    acc = accuracy_score(tf.argmax(logits, axis=1), tf.argmax(Y_test, axis=1))\n",
        "    print('comm_round: {} | global_acc: {:.3%} | global_loss: {}'.format(comm_round, acc, loss))\n",
        "    return acc, loss"
      ],
      "metadata": {
        "id": "7PqEnWoSymm8"
      },
      "execution_count": null,
      "outputs": []
    },
    {
      "cell_type": "code",
      "source": [
        "#initialize global model\n",
        "smlp_global = SimpleMLP()\n",
        "global_model = smlp_global.build(2500, 43)\n",
        "\n",
        "global_acc_arr = []\n",
        "global_loss_arr = []\n",
        "#commence global training loop\n",
        "for comm_round in range(comms_round):\n",
        "\n",
        "    # get the global model's weights - will serve as the initial weights for all local models\n",
        "    global_weights = global_model.get_weights()\n",
        "\n",
        "    #initial list to collect local model weights after scalling\n",
        "    scaled_local_weight_list = list()\n",
        "\n",
        "    #randomize client data - using keys\n",
        "    client_names= list(clients_batched.keys())\n",
        "    random.shuffle(client_names)\n",
        "\n",
        "    #loop through each client and create new local model\n",
        "    for client in client_names:\n",
        "        smlp_local = SimpleMLP()\n",
        "        local_model = smlp_local.build(2500, 43)\n",
        "        local_model.compile(loss=loss,\n",
        "                      optimizer=optimizer,\n",
        "                      metrics=metrics)\n",
        "\n",
        "        #set local model weight to the weight of the global model\n",
        "        local_model.set_weights(global_weights)\n",
        "\n",
        "        #fit local model with client's data\n",
        "        local_model.fit(clients_batched[client], epochs=1, verbose=0)\n",
        "\n",
        "        #scale the model weights and add to list\n",
        "        scaling_factor = weight_scalling_factor(clients_batched, client)\n",
        "        scaled_weights = scale_model_weights(local_model.get_weights(), scaling_factor)\n",
        "        scaled_local_weight_list.append(scaled_weights)\n",
        "\n",
        "        #clear session to free memory after each communication round\n",
        "        K.clear_session()\n",
        "\n",
        "    #to get the average over all the local model, we simply take the sum of the scaled weights\n",
        "    average_weights = sum_scaled_weights(scaled_local_weight_list)\n",
        "\n",
        "    #update global model\n",
        "    global_model.set_weights(average_weights)\n",
        "\n",
        "    #test global model and print out metrics after each communications round\n",
        "    for(X_test, Y_test) in test_batched:\n",
        "        global_acc, global_loss = test_model(X_test, Y_test, global_model, comm_round)\n",
        "        global_acc_arr.append(global_acc * 100)\n",
        "        global_loss_arr.append(global_loss.numpy())\n"
      ],
      "metadata": {
        "colab": {
          "base_uri": "https://localhost:8080/"
        },
        "id": "QWizFHsFy1XO",
        "outputId": "09a8a47f-08fb-40ac-aa90-a821270afbeb"
      },
      "execution_count": null,
      "outputs": [
        {
          "output_type": "stream",
          "name": "stdout",
          "text": [
            "123/123 [==============================] - 0s 2ms/step\n",
            "comm_round: 0 | global_acc: 13.517% | global_loss: 3.7444443702697754\n",
            "123/123 [==============================] - 0s 2ms/step\n",
            "comm_round: 1 | global_acc: 19.255% | global_loss: 3.7364754676818848\n",
            "123/123 [==============================] - 0s 1ms/step\n",
            "comm_round: 2 | global_acc: 23.897% | global_loss: 3.725757598876953\n",
            "123/123 [==============================] - 0s 1ms/step\n",
            "comm_round: 3 | global_acc: 27.927% | global_loss: 3.712834358215332\n",
            "123/123 [==============================] - 0s 1ms/step\n",
            "comm_round: 4 | global_acc: 33.435% | global_loss: 3.694923162460327\n",
            "123/123 [==============================] - 0s 2ms/step\n",
            "comm_round: 5 | global_acc: 37.184% | global_loss: 3.6773924827575684\n",
            "123/123 [==============================] - 0s 2ms/step\n",
            "comm_round: 6 | global_acc: 39.123% | global_loss: 3.656308889389038\n",
            "123/123 [==============================] - 0s 1ms/step\n",
            "comm_round: 7 | global_acc: 41.928% | global_loss: 3.6345176696777344\n",
            "123/123 [==============================] - 0s 2ms/step\n",
            "comm_round: 8 | global_acc: 44.070% | global_loss: 3.617157220840454\n",
            "123/123 [==============================] - 0s 1ms/step\n",
            "comm_round: 9 | global_acc: 45.805% | global_loss: 3.5965325832366943\n",
            "123/123 [==============================] - 0s 2ms/step\n",
            "comm_round: 10 | global_acc: 47.462% | global_loss: 3.579272508621216\n",
            "123/123 [==============================] - 0s 2ms/step\n",
            "comm_round: 11 | global_acc: 49.171% | global_loss: 3.5613789558410645\n",
            "123/123 [==============================] - 0s 1ms/step\n",
            "comm_round: 12 | global_acc: 50.574% | global_loss: 3.54597806930542\n",
            "123/123 [==============================] - 0s 2ms/step\n",
            "comm_round: 13 | global_acc: 51.951% | global_loss: 3.529928684234619\n",
            "123/123 [==============================] - 0s 1ms/step\n",
            "comm_round: 14 | global_acc: 53.430% | global_loss: 3.5148017406463623\n",
            "123/123 [==============================] - 0s 2ms/step\n",
            "comm_round: 15 | global_acc: 54.603% | global_loss: 3.4984707832336426\n",
            "123/123 [==============================] - 0s 1ms/step\n",
            "comm_round: 16 | global_acc: 56.567% | global_loss: 3.484696865081787\n",
            "123/123 [==============================] - 0s 1ms/step\n",
            "comm_round: 17 | global_acc: 58.480% | global_loss: 3.4699156284332275\n",
            "123/123 [==============================] - 0s 2ms/step\n",
            "comm_round: 18 | global_acc: 59.730% | global_loss: 3.459390163421631\n",
            "123/123 [==============================] - 0s 3ms/step\n",
            "comm_round: 19 | global_acc: 61.693% | global_loss: 3.4446470737457275\n",
            "123/123 [==============================] - 0s 1ms/step\n",
            "comm_round: 20 | global_acc: 62.306% | global_loss: 3.430461883544922\n",
            "123/123 [==============================] - 0s 1ms/step\n",
            "comm_round: 21 | global_acc: 63.836% | global_loss: 3.417741537094116\n",
            "123/123 [==============================] - 0s 1ms/step\n",
            "comm_round: 22 | global_acc: 65.902% | global_loss: 3.40771222114563\n",
            "123/123 [==============================] - 0s 1ms/step\n",
            "comm_round: 23 | global_acc: 66.616% | global_loss: 3.3944709300994873\n",
            "123/123 [==============================] - 0s 1ms/step\n",
            "comm_round: 24 | global_acc: 66.998% | global_loss: 3.3825113773345947\n",
            "123/123 [==============================] - 0s 2ms/step\n",
            "comm_round: 25 | global_acc: 68.911% | global_loss: 3.3724372386932373\n",
            "123/123 [==============================] - 0s 1ms/step\n",
            "comm_round: 26 | global_acc: 69.319% | global_loss: 3.361422300338745\n",
            "123/123 [==============================] - 0s 2ms/step\n",
            "comm_round: 27 | global_acc: 70.849% | global_loss: 3.3501768112182617\n",
            "123/123 [==============================] - 0s 2ms/step\n",
            "comm_round: 28 | global_acc: 70.492% | global_loss: 3.3387088775634766\n",
            "123/123 [==============================] - 0s 1ms/step\n",
            "comm_round: 29 | global_acc: 72.124% | global_loss: 3.3296844959259033\n",
            "123/123 [==============================] - 0s 1ms/step\n",
            "comm_round: 30 | global_acc: 73.094% | global_loss: 3.3211350440979004\n",
            "123/123 [==============================] - 0s 1ms/step\n",
            "comm_round: 31 | global_acc: 73.272% | global_loss: 3.3131392002105713\n",
            "123/123 [==============================] - 0s 1ms/step\n",
            "comm_round: 32 | global_acc: 74.114% | global_loss: 3.303405284881592\n",
            "123/123 [==============================] - 0s 2ms/step\n",
            "comm_round: 33 | global_acc: 74.420% | global_loss: 3.2955965995788574\n",
            "123/123 [==============================] - 0s 1ms/step\n",
            "comm_round: 34 | global_acc: 75.287% | global_loss: 3.286669969558716\n",
            "123/123 [==============================] - 0s 1ms/step\n",
            "comm_round: 35 | global_acc: 76.231% | global_loss: 3.279500961303711\n",
            "123/123 [==============================] - 0s 1ms/step\n",
            "comm_round: 36 | global_acc: 75.976% | global_loss: 3.269899606704712\n",
            "123/123 [==============================] - 0s 2ms/step\n",
            "comm_round: 37 | global_acc: 76.562% | global_loss: 3.2635951042175293\n",
            "123/123 [==============================] - 0s 2ms/step\n",
            "comm_round: 38 | global_acc: 77.659% | global_loss: 3.2565865516662598\n",
            "123/123 [==============================] - 0s 2ms/step\n",
            "comm_round: 39 | global_acc: 77.863% | global_loss: 3.2493960857391357\n",
            "123/123 [==============================] - 0s 1ms/step\n",
            "comm_round: 40 | global_acc: 78.271% | global_loss: 3.24241042137146\n",
            "123/123 [==============================] - 0s 1ms/step\n",
            "comm_round: 41 | global_acc: 78.577% | global_loss: 3.2379415035247803\n",
            "123/123 [==============================] - 0s 2ms/step\n",
            "comm_round: 42 | global_acc: 78.628% | global_loss: 3.231171131134033\n",
            "123/123 [==============================] - 0s 2ms/step\n",
            "comm_round: 43 | global_acc: 78.653% | global_loss: 3.2240610122680664\n",
            "123/123 [==============================] - 0s 2ms/step\n",
            "comm_round: 44 | global_acc: 79.265% | global_loss: 3.218810558319092\n",
            "123/123 [==============================] - 0s 2ms/step\n",
            "comm_round: 45 | global_acc: 79.495% | global_loss: 3.2167716026306152\n",
            "123/123 [==============================] - 0s 1ms/step\n",
            "comm_round: 46 | global_acc: 79.903% | global_loss: 3.209704637527466\n",
            "123/123 [==============================] - 0s 2ms/step\n",
            "comm_round: 47 | global_acc: 80.056% | global_loss: 3.2050161361694336\n",
            "123/123 [==============================] - 0s 1ms/step\n",
            "comm_round: 48 | global_acc: 81.459% | global_loss: 3.198972702026367\n",
            "123/123 [==============================] - 0s 2ms/step\n",
            "comm_round: 49 | global_acc: 80.668% | global_loss: 3.194101095199585\n",
            "123/123 [==============================] - 0s 2ms/step\n",
            "comm_round: 50 | global_acc: 81.790% | global_loss: 3.1900503635406494\n",
            "123/123 [==============================] - 0s 2ms/step\n",
            "comm_round: 51 | global_acc: 81.841% | global_loss: 3.186359405517578\n",
            "123/123 [==============================] - 0s 2ms/step\n",
            "comm_round: 52 | global_acc: 81.841% | global_loss: 3.1785008907318115\n",
            "123/123 [==============================] - 0s 1ms/step\n",
            "comm_round: 53 | global_acc: 82.045% | global_loss: 3.1758763790130615\n",
            "123/123 [==============================] - 0s 2ms/step\n",
            "comm_round: 54 | global_acc: 82.760% | global_loss: 3.1724154949188232\n",
            "123/123 [==============================] - 0s 2ms/step\n",
            "comm_round: 55 | global_acc: 82.734% | global_loss: 3.166818380355835\n",
            "123/123 [==============================] - 0s 1ms/step\n",
            "comm_round: 56 | global_acc: 83.372% | global_loss: 3.1647279262542725\n",
            "123/123 [==============================] - 0s 2ms/step\n",
            "comm_round: 57 | global_acc: 83.270% | global_loss: 3.1611647605895996\n",
            "123/123 [==============================] - 0s 2ms/step\n",
            "comm_round: 58 | global_acc: 83.550% | global_loss: 3.159855604171753\n",
            "123/123 [==============================] - 0s 2ms/step\n",
            "comm_round: 59 | global_acc: 83.576% | global_loss: 3.154285430908203\n",
            "123/123 [==============================] - 0s 2ms/step\n",
            "comm_round: 60 | global_acc: 83.729% | global_loss: 3.1512451171875\n",
            "123/123 [==============================] - 0s 2ms/step\n",
            "comm_round: 61 | global_acc: 84.239% | global_loss: 3.146719217300415\n",
            "123/123 [==============================] - 0s 1ms/step\n",
            "comm_round: 62 | global_acc: 83.856% | global_loss: 3.1445555686950684\n",
            "123/123 [==============================] - 0s 1ms/step\n",
            "comm_round: 63 | global_acc: 84.341% | global_loss: 3.1415364742279053\n",
            "123/123 [==============================] - 0s 1ms/step\n",
            "comm_round: 64 | global_acc: 84.417% | global_loss: 3.1403751373291016\n",
            "123/123 [==============================] - 0s 2ms/step\n",
            "comm_round: 65 | global_acc: 84.545% | global_loss: 3.135007858276367\n",
            "123/123 [==============================] - 0s 2ms/step\n",
            "comm_round: 66 | global_acc: 84.392% | global_loss: 3.1330819129943848\n",
            "123/123 [==============================] - 0s 2ms/step\n",
            "comm_round: 67 | global_acc: 84.800% | global_loss: 3.1313891410827637\n",
            "123/123 [==============================] - 0s 1ms/step\n",
            "comm_round: 68 | global_acc: 85.131% | global_loss: 3.1271259784698486\n",
            "123/123 [==============================] - 0s 2ms/step\n",
            "comm_round: 69 | global_acc: 85.361% | global_loss: 3.124509334564209\n",
            "123/123 [==============================] - 0s 1ms/step\n",
            "comm_round: 70 | global_acc: 85.131% | global_loss: 3.1216700077056885\n",
            "123/123 [==============================] - 0s 2ms/step\n",
            "comm_round: 71 | global_acc: 85.692% | global_loss: 3.119544267654419\n",
            "123/123 [==============================] - 0s 2ms/step\n",
            "comm_round: 72 | global_acc: 85.284% | global_loss: 3.117624282836914\n",
            "123/123 [==============================] - 0s 1ms/step\n",
            "comm_round: 73 | global_acc: 85.973% | global_loss: 3.1149003505706787\n",
            "123/123 [==============================] - 0s 1ms/step\n",
            "comm_round: 74 | global_acc: 85.743% | global_loss: 3.1121938228607178\n",
            "123/123 [==============================] - 0s 1ms/step\n",
            "comm_round: 75 | global_acc: 85.437% | global_loss: 3.1133408546447754\n",
            "123/123 [==============================] - 0s 2ms/step\n",
            "comm_round: 76 | global_acc: 85.947% | global_loss: 3.1092755794525146\n",
            "123/123 [==============================] - 0s 1ms/step\n",
            "comm_round: 77 | global_acc: 86.024% | global_loss: 3.105699062347412\n",
            "123/123 [==============================] - 0s 1ms/step\n",
            "comm_round: 78 | global_acc: 86.075% | global_loss: 3.103410243988037\n",
            "123/123 [==============================] - 0s 2ms/step\n",
            "comm_round: 79 | global_acc: 86.254% | global_loss: 3.1029765605926514\n",
            "123/123 [==============================] - 0s 2ms/step\n",
            "comm_round: 80 | global_acc: 86.151% | global_loss: 3.0986831188201904\n",
            "123/123 [==============================] - 0s 2ms/step\n",
            "comm_round: 81 | global_acc: 86.534% | global_loss: 3.0981645584106445\n",
            "123/123 [==============================] - 0s 1ms/step\n",
            "comm_round: 82 | global_acc: 86.662% | global_loss: 3.0961849689483643\n",
            "123/123 [==============================] - 0s 2ms/step\n",
            "comm_round: 83 | global_acc: 86.151% | global_loss: 3.094376802444458\n",
            "123/123 [==============================] - 0s 2ms/step\n",
            "comm_round: 84 | global_acc: 86.407% | global_loss: 3.0914556980133057\n",
            "123/123 [==============================] - 0s 2ms/step\n",
            "comm_round: 85 | global_acc: 86.815% | global_loss: 3.0915558338165283\n",
            "123/123 [==============================] - 0s 2ms/step\n",
            "comm_round: 86 | global_acc: 86.789% | global_loss: 3.0892014503479004\n",
            "123/123 [==============================] - 0s 2ms/step\n",
            "comm_round: 87 | global_acc: 86.713% | global_loss: 3.088402271270752\n",
            "123/123 [==============================] - 0s 2ms/step\n",
            "comm_round: 88 | global_acc: 86.917% | global_loss: 3.086468458175659\n",
            "123/123 [==============================] - 0s 2ms/step\n",
            "comm_round: 89 | global_acc: 86.866% | global_loss: 3.084268569946289\n",
            "123/123 [==============================] - 0s 2ms/step\n",
            "comm_round: 90 | global_acc: 87.095% | global_loss: 3.0837152004241943\n",
            "123/123 [==============================] - 0s 1ms/step\n",
            "comm_round: 91 | global_acc: 87.631% | global_loss: 3.081050157546997\n",
            "123/123 [==============================] - 0s 2ms/step\n",
            "comm_round: 92 | global_acc: 87.121% | global_loss: 3.0807347297668457\n",
            "123/123 [==============================] - 0s 2ms/step\n",
            "comm_round: 93 | global_acc: 87.146% | global_loss: 3.0800912380218506\n",
            "123/123 [==============================] - 0s 2ms/step\n",
            "comm_round: 94 | global_acc: 87.274% | global_loss: 3.0769636631011963\n",
            "123/123 [==============================] - 0s 1ms/step\n",
            "comm_round: 95 | global_acc: 87.478% | global_loss: 3.0745434761047363\n",
            "123/123 [==============================] - 0s 1ms/step\n",
            "comm_round: 96 | global_acc: 87.503% | global_loss: 3.0735812187194824\n",
            "123/123 [==============================] - 0s 1ms/step\n",
            "comm_round: 97 | global_acc: 87.988% | global_loss: 3.0724937915802\n",
            "123/123 [==============================] - 0s 2ms/step\n",
            "comm_round: 98 | global_acc: 88.166% | global_loss: 3.06960129737854\n",
            "123/123 [==============================] - 0s 2ms/step\n",
            "comm_round: 99 | global_acc: 87.835% | global_loss: 3.0694897174835205\n"
          ]
        }
      ]
    },
    {
      "cell_type": "code",
      "source": [
        "import matplotlib.pyplot as plt\n"
      ],
      "metadata": {
        "id": "_jY9xmYlzPwI"
      },
      "execution_count": null,
      "outputs": []
    },
    {
      "cell_type": "code",
      "source": [
        "plt.title(\"Global accuracy\")\n",
        "plt.xlabel(\"Epocs\")\n",
        "plt.ylabel(\"Accuracy\")\n",
        "x = np.arange(0, 100)\n",
        "plt.plot(x, global_acc_arr, color =\"orange\")\n",
        "plt.show()"
      ],
      "metadata": {
        "colab": {
          "base_uri": "https://localhost:8080/",
          "height": 472
        },
        "id": "YfuPA41MIg_9",
        "outputId": "0254897b-5a28-45ee-a7b5-4d1c35b730db"
      },
      "execution_count": null,
      "outputs": [
        {
          "output_type": "display_data",
          "data": {
            "text/plain": [
              "<Figure size 640x480 with 1 Axes>"
            ],
            "image/png": "[encoded data removed]"
          },
          "metadata": {}
        }
      ]
    },
    {
      "cell_type": "code",
      "source": [
        "plt.title(\"Global Loss\")\n",
        "plt.xlabel(\"Epocs\")\n",
        "plt.ylabel(\"Loss\")\n",
        "x = np.arange(0, 100)\n",
        "plt.plot(x, global_loss_arr, color =\"blue\")\n",
        "plt.show()"
      ],
      "metadata": {
        "colab": {
          "base_uri": "https://localhost:8080/",
          "height": 472
        },
        "id": "01KmT12PIu0-",
        "outputId": "050381fd-156a-488e-c0dc-912c2731d6ee"
      },
      "execution_count": null,
      "outputs": [
        {
          "output_type": "display_data",
          "data": {
            "text/plain": [
              "<Figure size 640x480 with 1 Axes>"
            ],
            "image/png": "[encoded data removed]"
          },
          "metadata": {}
        }
      ]
    },
    {
      "cell_type": "code",
      "source": [],
      "metadata": {
        "id": "VmqXzTlHJreH"
      },
      "execution_count": null,
      "outputs": []
    }
  ]
}